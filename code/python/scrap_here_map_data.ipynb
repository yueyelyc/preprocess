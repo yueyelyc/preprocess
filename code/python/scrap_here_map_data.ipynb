{
 "cells": [
  {
   "cell_type": "code",
   "execution_count": 15,
   "metadata": {
    "collapsed": false
   },
   "outputs": [],
   "source": [
    "import pandas as pd\n",
    "import requests\n",
    "import time\n",
    "import json"
   ]
  },
  {
   "cell_type": "code",
   "execution_count": 2,
   "metadata": {
    "collapsed": false
   },
   "outputs": [],
   "source": [
    "cell_data_orig = pd.read_csv('utrafdd-530-01_RNC901_971_belllabs.csv')"
   ]
  },
  {
   "cell_type": "markdown",
   "metadata": {},
   "source": [
    "Remove rows where lat, lon, or radius are null"
   ]
  },
  {
   "cell_type": "code",
   "execution_count": 3,
   "metadata": {
    "collapsed": false
   },
   "outputs": [
    {
     "name": "stderr",
     "output_type": "stream",
     "text": [
      "/home/fei/anaconda3/lib/python3.5/site-packages/pandas/core/indexing.py:461: SettingWithCopyWarning: \n",
      "A value is trying to be set on a copy of a slice from a DataFrame.\n",
      "Try using .loc[row_indexer,col_indexer] = value instead\n",
      "\n",
      "See the caveats in the documentation: http://pandas.pydata.org/pandas-docs/stable/indexing.html#indexing-view-versus-copy\n",
      "  self.obj[item] = s\n"
     ]
    }
   ],
   "source": [
    "cell_data = cell_data_orig[ (cell_data_orig.lon != 'null') & (cell_data_orig.lat != 'null')  & (cell_data_orig.radius != 'null')]\n",
    "cell_data.loc[:, ['lat','lon']] = cell_data[['lat','lon']].apply(pd.to_numeric)"
   ]
  },
  {
   "cell_type": "markdown",
   "metadata": {},
   "source": [
    "Construct query template"
   ]
  },
  {
   "cell_type": "code",
   "execution_count": 4,
   "metadata": {
    "collapsed": false
   },
   "outputs": [],
   "source": [
    "query_categories = \"\"\"eat-drink,going-out,sights-museums,transport,accommodation,shopping,leisure-outdoor,administrative-areas-buildings,natural-geographical,petrol-station,atm-bank-exchange,toilet-rest-area,hospital-health-care-facility\"\"\"\n",
    "query_params = {'lat': False,  ## latitude\n",
    "                    'lon': False,  ## longitude\n",
    "                    'radius': 300, ## radius in meter\n",
    "                    'size': 1000,   ## number of items to retrieve. This seems to be upper-bounded by 100\n",
    "                    'cat': query_categories ## which categories to query. This is the latest complete list\n",
    "                   }\n",
    "query_template = ''.join([\n",
    "    \"\"\"https://places.cit.api.here.com/places/v1/discover/explore\"\"\", \n",
    "    \"\"\"?in={lat},{lon};r={radius}\"\"\", ## circle model: location and radius\n",
    "    \"\"\"&app_id=eQ751KMtu5uaz8z5ZH9N\"\"\", ## secret\n",
    "    \"\"\"&app_code=iMzWgAZK46qzcb4Uwu9kgw\"\"\", ## secret\n",
    "    \"\"\"&size={size}\"\"\", \n",
    "    \"\"\"&tf=plain\"\"\",\n",
    "    \"\"\"&pretty=true\"\"\",\n",
    "    \"\"\"&categories={cat}\"\"\"\n",
    "])\n"
   ]
  },
  {
   "cell_type": "markdown",
   "metadata": {},
   "source": [
    "Get POIs near cell locations"
   ]
  },
  {
   "cell_type": "code",
   "execution_count": 13,
   "metadata": {
    "collapsed": false,
    "scrolled": true
   },
   "outputs": [
    {
     "name": "stdout",
     "output_type": "stream",
     "text": [
      "Processing Row 100\n",
      "Processing Row 200\n",
      "Processing Row 300\n",
      "Processing Row 400\n",
      "Processing Row 500\n",
      "Processing Row 600\n",
      "Processing Row 700\n",
      "Processing Row 800\n",
      "Processing Row 900\n",
      "Processing Row 1000\n",
      "Processing Row 1100\n",
      "Processing Row 1200\n",
      "Processing Row 1300\n",
      "Processing Row 1400\n",
      "Processing Row 1500\n",
      "Processing Row 1600\n",
      "Processing Row 1700\n",
      "Processing Row 1800\n",
      "Processing Row 1900\n",
      "Processing Row 2000\n",
      "Processing Row 2100\n",
      "Processing Row 2200\n",
      "Processing Row 2300\n",
      "Processing Row 2400\n",
      "Processing Row 2500\n",
      "Processing Row 2600\n",
      "Processing Row 2700\n",
      "Processing Row 2800\n",
      "Processing Row 2900\n",
      "Processing Row 3000\n",
      "Processing Row 3100\n",
      "Processing Row 3200\n",
      "Processing Row 3300\n",
      "Processing Row 3400\n",
      "Processing Row 3500\n",
      "Processing Row 3600\n",
      "Processing Row 3700\n",
      "Processing Row 3800\n",
      "Error fetcting cell lat=-36.80062484741211, lon=174.74192810058594\n",
      "Processing Row 3900\n"
     ]
    }
   ],
   "source": [
    "data_collector = []\n",
    "error_data_collector = []\n",
    "\n",
    "for index, row in cell_data.iterrows():\n",
    "    if index % 100 == 0:\n",
    "        print(\"Processing Row {}\".format(index))\n",
    "    time.sleep(0.1)\n",
    "    query_params['lat'] = row.lat\n",
    "    query_params['lon'] = row.lon\n",
    "    query = query_template.format(**query_params)\n",
    "    response = requests.get(query)\n",
    "    if response.status_code != 200:\n",
    "        print(\"Error fetcting cell lat={}, lon={}\".format(row.lat, row.lon))\n",
    "        error_data_collector.append(row)\n",
    "        continue\n",
    "    data_collector.append({'query_params': query_params,\n",
    "                           'json': response.json()})\n",
    "   "
   ]
  },
  {
   "cell_type": "markdown",
   "metadata": {},
   "source": [
    "Save the poi-cell pair data"
   ]
  },
  {
   "cell_type": "code",
   "execution_count": 18,
   "metadata": {
    "collapsed": false
   },
   "outputs": [],
   "source": [
    "with open(\"poi_cell_data.json\", 'w') as outfile:\n",
    "    json.dump(data_collector, outfile, indent=4)"
   ]
  },
  {
   "cell_type": "code",
   "execution_count": null,
   "metadata": {
    "collapsed": true
   },
   "outputs": [],
   "source": []
  }
 ],
 "metadata": {
  "kernelspec": {
   "display_name": "Python 3",
   "language": "python",
   "name": "python3"
  },
  "language_info": {
   "codemirror_mode": {
    "name": "ipython",
    "version": 3
   },
   "file_extension": ".py",
   "mimetype": "text/x-python",
   "name": "python",
   "nbconvert_exporter": "python",
   "pygments_lexer": "ipython3",
   "version": "3.5.1"
  }
 },
 "nbformat": 4,
 "nbformat_minor": 0
}
